{
 "cells": [
  {
   "cell_type": "code",
   "execution_count": 1,
   "id": "37fd0bb3",
   "metadata": {},
   "outputs": [],
   "source": [
    "# Download chest X-Ray dataset here: https://www.kaggle.com/datasets/nih-chest-xrays/sample/versions/2\n",
    "# Dataset contains 5606 images with either \"No Findings\", i.e., healthy/control, and \n",
    "# other labels indicating presence of some disease"
   ]
  },
  {
   "cell_type": "code",
   "execution_count": 1,
   "id": "33d0c7b8",
   "metadata": {},
   "outputs": [
    {
     "name": "stderr",
     "output_type": "stream",
     "text": [
      "C:\\Users\\geoff\\anaconda3\\lib\\site-packages\\scipy\\__init__.py:146: UserWarning: A NumPy version >=1.16.5 and <1.23.0 is required for this version of SciPy (detected version 1.24.3\n",
      "  warnings.warn(f\"A NumPy version >={np_minversion} and <{np_maxversion}\"\n"
     ]
    }
   ],
   "source": [
    "import os\n",
    "import pandas as pd\n",
    "import matplotlib.pyplot as plt\n",
    "import numpy as np\n",
    "import shutil\n",
    "\n",
    "from sklearn.model_selection import train_test_split\n",
    "\n",
    "# Initialize rng\n",
    "rng = np.random.default_rng(2022)"
   ]
  },
  {
   "cell_type": "code",
   "execution_count": 2,
   "id": "d5d0003f",
   "metadata": {},
   "outputs": [
    {
     "name": "stdout",
     "output_type": "stream",
     "text": [
      "Collecting numpy==1.23.0Note: you may need to restart the kernel to use updated packages.\n",
      "  Downloading numpy-1.23.0-cp39-cp39-win_amd64.whl (14.7 MB)\n",
      "Installing collected packages: numpy\n",
      "  Attempting uninstall: numpy\n",
      "    Found existing installation: numpy 1.24.3\n",
      "    Uninstalling numpy-1.24.3:\n",
      "      Successfully uninstalled numpy-1.24.3\n",
      "\n"
     ]
    },
    {
     "name": "stderr",
     "output_type": "stream",
     "text": [
      "ERROR: Could not install packages due to an OSError: [WinError 5] Access is denied: 'C:\\\\Users\\\\geoff\\\\anaconda3\\\\Lib\\\\site-packages\\\\~umpy\\\\.libs\\\\libopenblas64__v0.3.21-gcc_10_3_0.dll'\n",
      "Consider using the `--user` option or check the permissions.\n",
      "\n"
     ]
    }
   ],
   "source": [
    "pip install numpy==1.23.0"
   ]
  },
  {
   "cell_type": "code",
   "execution_count": 10,
   "id": "55d5846e",
   "metadata": {},
   "outputs": [],
   "source": [
    "data_dir = r'C:\\Users\\geoff\\OneDrive\\COMP 647 Deep Learning\\hw2\\archive\\sample\\images'\n",
    "data_details_fr = pd.read_csv(os.path.join('archive/',\n",
    "                                           'sample_labels.csv'),\n",
    "                              header=None)"
   ]
  },
  {
   "cell_type": "code",
   "execution_count": 11,
   "id": "4fbb47fb",
   "metadata": {},
   "outputs": [
    {
     "data": {
      "text/html": [
       "<div>\n",
       "<style scoped>\n",
       "    .dataframe tbody tr th:only-of-type {\n",
       "        vertical-align: middle;\n",
       "    }\n",
       "\n",
       "    .dataframe tbody tr th {\n",
       "        vertical-align: top;\n",
       "    }\n",
       "\n",
       "    .dataframe thead th {\n",
       "        text-align: right;\n",
       "    }\n",
       "</style>\n",
       "<table border=\"1\" class=\"dataframe\">\n",
       "  <thead>\n",
       "    <tr style=\"text-align: right;\">\n",
       "      <th></th>\n",
       "      <th>0</th>\n",
       "      <th>1</th>\n",
       "      <th>2</th>\n",
       "      <th>3</th>\n",
       "      <th>4</th>\n",
       "      <th>5</th>\n",
       "      <th>6</th>\n",
       "      <th>7</th>\n",
       "      <th>8</th>\n",
       "      <th>9</th>\n",
       "      <th>10</th>\n",
       "    </tr>\n",
       "  </thead>\n",
       "  <tbody>\n",
       "    <tr>\n",
       "      <th>0</th>\n",
       "      <td>00000013_005.png</td>\n",
       "      <td>Emphysema|Infiltration|Pleural_Thickening|Pneu...</td>\n",
       "      <td>5</td>\n",
       "      <td>13</td>\n",
       "      <td>060Y</td>\n",
       "      <td>M</td>\n",
       "      <td>AP</td>\n",
       "      <td>3056</td>\n",
       "      <td>2544</td>\n",
       "      <td>0.139</td>\n",
       "      <td>0.139</td>\n",
       "    </tr>\n",
       "    <tr>\n",
       "      <th>1</th>\n",
       "      <td>00000013_026.png</td>\n",
       "      <td>Cardiomegaly|Emphysema</td>\n",
       "      <td>26</td>\n",
       "      <td>13</td>\n",
       "      <td>057Y</td>\n",
       "      <td>M</td>\n",
       "      <td>AP</td>\n",
       "      <td>2500</td>\n",
       "      <td>2048</td>\n",
       "      <td>0.168</td>\n",
       "      <td>0.168</td>\n",
       "    </tr>\n",
       "    <tr>\n",
       "      <th>2</th>\n",
       "      <td>00000017_001.png</td>\n",
       "      <td>No Finding</td>\n",
       "      <td>1</td>\n",
       "      <td>17</td>\n",
       "      <td>077Y</td>\n",
       "      <td>M</td>\n",
       "      <td>AP</td>\n",
       "      <td>2500</td>\n",
       "      <td>2048</td>\n",
       "      <td>0.168</td>\n",
       "      <td>0.168</td>\n",
       "    </tr>\n",
       "    <tr>\n",
       "      <th>3</th>\n",
       "      <td>00000030_001.png</td>\n",
       "      <td>Atelectasis</td>\n",
       "      <td>1</td>\n",
       "      <td>30</td>\n",
       "      <td>079Y</td>\n",
       "      <td>M</td>\n",
       "      <td>PA</td>\n",
       "      <td>2992</td>\n",
       "      <td>2991</td>\n",
       "      <td>0.143</td>\n",
       "      <td>0.143</td>\n",
       "    </tr>\n",
       "    <tr>\n",
       "      <th>4</th>\n",
       "      <td>00000032_001.png</td>\n",
       "      <td>Cardiomegaly|Edema|Effusion</td>\n",
       "      <td>1</td>\n",
       "      <td>32</td>\n",
       "      <td>055Y</td>\n",
       "      <td>F</td>\n",
       "      <td>AP</td>\n",
       "      <td>2500</td>\n",
       "      <td>2048</td>\n",
       "      <td>0.168</td>\n",
       "      <td>0.168</td>\n",
       "    </tr>\n",
       "  </tbody>\n",
       "</table>\n",
       "</div>"
      ],
      "text/plain": [
       "                 0                                                  1   2   \\\n",
       "0  00000013_005.png  Emphysema|Infiltration|Pleural_Thickening|Pneu...   5   \n",
       "1  00000013_026.png                             Cardiomegaly|Emphysema  26   \n",
       "2  00000017_001.png                                         No Finding   1   \n",
       "3  00000030_001.png                                        Atelectasis   1   \n",
       "4  00000032_001.png                        Cardiomegaly|Edema|Effusion   1   \n",
       "\n",
       "   3     4  5   6     7     8      9      10  \n",
       "0  13  060Y  M  AP  3056  2544  0.139  0.139  \n",
       "1  13  057Y  M  AP  2500  2048  0.168  0.168  \n",
       "2  17  077Y  M  AP  2500  2048  0.168  0.168  \n",
       "3  30  079Y  M  PA  2992  2991  0.143  0.143  \n",
       "4  32  055Y  F  AP  2500  2048  0.168  0.168  "
      ]
     },
     "execution_count": 11,
     "metadata": {},
     "output_type": "execute_result"
    }
   ],
   "source": [
    "data_details_fr.head()"
   ]
  },
  {
   "cell_type": "code",
   "execution_count": 12,
   "id": "21da45ff",
   "metadata": {},
   "outputs": [],
   "source": [
    "# Get list of file names\n",
    "filenames_list = data_details_fr[0].to_list()"
   ]
  },
  {
   "cell_type": "code",
   "execution_count": 13,
   "id": "201c5669",
   "metadata": {},
   "outputs": [],
   "source": [
    "# Create list of classes\n",
    "# Class 0: No Finding; Class 1: All Diseases\n",
    "data_details_fr['Class'] = 1\n",
    "data_details_fr.loc[data_details_fr[1] == 'No Finding', 'Class'] = 0"
   ]
  },
  {
   "cell_type": "code",
   "execution_count": 14,
   "id": "ae22fdd4",
   "metadata": {},
   "outputs": [
    {
     "data": {
      "text/html": [
       "<div>\n",
       "<style scoped>\n",
       "    .dataframe tbody tr th:only-of-type {\n",
       "        vertical-align: middle;\n",
       "    }\n",
       "\n",
       "    .dataframe tbody tr th {\n",
       "        vertical-align: top;\n",
       "    }\n",
       "\n",
       "    .dataframe thead th {\n",
       "        text-align: right;\n",
       "    }\n",
       "</style>\n",
       "<table border=\"1\" class=\"dataframe\">\n",
       "  <thead>\n",
       "    <tr style=\"text-align: right;\">\n",
       "      <th></th>\n",
       "      <th>0</th>\n",
       "      <th>1</th>\n",
       "      <th>2</th>\n",
       "      <th>3</th>\n",
       "      <th>4</th>\n",
       "      <th>5</th>\n",
       "      <th>6</th>\n",
       "      <th>7</th>\n",
       "      <th>8</th>\n",
       "      <th>9</th>\n",
       "      <th>10</th>\n",
       "      <th>Class</th>\n",
       "    </tr>\n",
       "  </thead>\n",
       "  <tbody>\n",
       "    <tr>\n",
       "      <th>0</th>\n",
       "      <td>00000013_005.png</td>\n",
       "      <td>Emphysema|Infiltration|Pleural_Thickening|Pneu...</td>\n",
       "      <td>5</td>\n",
       "      <td>13</td>\n",
       "      <td>060Y</td>\n",
       "      <td>M</td>\n",
       "      <td>AP</td>\n",
       "      <td>3056</td>\n",
       "      <td>2544</td>\n",
       "      <td>0.139</td>\n",
       "      <td>0.139</td>\n",
       "      <td>1</td>\n",
       "    </tr>\n",
       "    <tr>\n",
       "      <th>1</th>\n",
       "      <td>00000013_026.png</td>\n",
       "      <td>Cardiomegaly|Emphysema</td>\n",
       "      <td>26</td>\n",
       "      <td>13</td>\n",
       "      <td>057Y</td>\n",
       "      <td>M</td>\n",
       "      <td>AP</td>\n",
       "      <td>2500</td>\n",
       "      <td>2048</td>\n",
       "      <td>0.168</td>\n",
       "      <td>0.168</td>\n",
       "      <td>1</td>\n",
       "    </tr>\n",
       "    <tr>\n",
       "      <th>2</th>\n",
       "      <td>00000017_001.png</td>\n",
       "      <td>No Finding</td>\n",
       "      <td>1</td>\n",
       "      <td>17</td>\n",
       "      <td>077Y</td>\n",
       "      <td>M</td>\n",
       "      <td>AP</td>\n",
       "      <td>2500</td>\n",
       "      <td>2048</td>\n",
       "      <td>0.168</td>\n",
       "      <td>0.168</td>\n",
       "      <td>0</td>\n",
       "    </tr>\n",
       "    <tr>\n",
       "      <th>3</th>\n",
       "      <td>00000030_001.png</td>\n",
       "      <td>Atelectasis</td>\n",
       "      <td>1</td>\n",
       "      <td>30</td>\n",
       "      <td>079Y</td>\n",
       "      <td>M</td>\n",
       "      <td>PA</td>\n",
       "      <td>2992</td>\n",
       "      <td>2991</td>\n",
       "      <td>0.143</td>\n",
       "      <td>0.143</td>\n",
       "      <td>1</td>\n",
       "    </tr>\n",
       "    <tr>\n",
       "      <th>4</th>\n",
       "      <td>00000032_001.png</td>\n",
       "      <td>Cardiomegaly|Edema|Effusion</td>\n",
       "      <td>1</td>\n",
       "      <td>32</td>\n",
       "      <td>055Y</td>\n",
       "      <td>F</td>\n",
       "      <td>AP</td>\n",
       "      <td>2500</td>\n",
       "      <td>2048</td>\n",
       "      <td>0.168</td>\n",
       "      <td>0.168</td>\n",
       "      <td>1</td>\n",
       "    </tr>\n",
       "  </tbody>\n",
       "</table>\n",
       "</div>"
      ],
      "text/plain": [
       "                  0                                                  1   2  \\\n",
       "0  00000013_005.png  Emphysema|Infiltration|Pleural_Thickening|Pneu...   5   \n",
       "1  00000013_026.png                             Cardiomegaly|Emphysema  26   \n",
       "2  00000017_001.png                                         No Finding   1   \n",
       "3  00000030_001.png                                        Atelectasis   1   \n",
       "4  00000032_001.png                        Cardiomegaly|Edema|Effusion   1   \n",
       "\n",
       "    3     4  5   6     7     8      9     10  Class  \n",
       "0  13  060Y  M  AP  3056  2544  0.139  0.139      1  \n",
       "1  13  057Y  M  AP  2500  2048  0.168  0.168      1  \n",
       "2  17  077Y  M  AP  2500  2048  0.168  0.168      0  \n",
       "3  30  079Y  M  PA  2992  2991  0.143  0.143      1  \n",
       "4  32  055Y  F  AP  2500  2048  0.168  0.168      1  "
      ]
     },
     "execution_count": 14,
     "metadata": {},
     "output_type": "execute_result"
    }
   ],
   "source": [
    "data_details_fr.head()"
   ]
  },
  {
   "cell_type": "code",
   "execution_count": 15,
   "id": "d62736e1",
   "metadata": {},
   "outputs": [],
   "source": [
    "# Get list of classes\n",
    "y_list = data_details_fr['Class'].to_list()"
   ]
  },
  {
   "cell_type": "code",
   "execution_count": 16,
   "id": "5b4d4c9b",
   "metadata": {},
   "outputs": [
    {
     "data": {
      "text/plain": [
       "<matplotlib.image.AxesImage at 0x161071c6760>"
      ]
     },
     "execution_count": 16,
     "metadata": {},
     "output_type": "execute_result"
    },
    {
     "data": {
      "image/png": "[encoded data removed]",
      "text/plain": [
       "<Figure size 432x288 with 1 Axes>"
      ]
     },
     "metadata": {
      "needs_background": "light"
     },
     "output_type": "display_data"
    }
   ],
   "source": [
    "# Load and display sample image\n",
    "im = plt.imread(os.path.join(data_dir, filenames_list[0]))\n",
    "plt.imshow(im, cmap='gray')"
   ]
  },
  {
   "cell_type": "code",
   "execution_count": 17,
   "id": "ad506f3d",
   "metadata": {},
   "outputs": [],
   "source": [
    "# Train:val:test = 70:15:15\n",
    "X_train, X_valtest, y_train, y_valtest = train_test_split(filenames_list,\n",
    "                                                    y_list,\n",
    "                                                    stratify=y_list,\n",
    "                                                    test_size=0.3,\n",
    "                                                    random_state=rng.integers(500000))\n",
    "\n",
    "X_val, X_test, y_val, y_test = train_test_split(X_valtest,\n",
    "                                                y_valtest,\n",
    "                                                stratify=y_valtest,\n",
    "                                                test_size=0.5,\n",
    "                                                random_state=rng.integers(500000))\n",
    "\n",
    "# Create dict to indicate type of data split\n",
    "split_dict = {'train': zip(X_train, y_train),\n",
    "              'val': zip(X_val, y_val),\n",
    "              'test': zip(X_test, y_test)}"
   ]
  },
  {
   "cell_type": "code",
   "execution_count": 18,
   "id": "29c54af2",
   "metadata": {},
   "outputs": [],
   "source": [
    "for split_type in ['train', 'val', 'test']:\n",
    "    for className in ['0', '1']:\n",
    "        os.makedirs(os.path.join('split_archive', split_type, className))"
   ]
  },
  {
   "cell_type": "code",
   "execution_count": 19,
   "id": "1005b644",
   "metadata": {},
   "outputs": [],
   "source": [
    "# Copy files from archive to appropriate folder\n",
    "\n",
    "for split_type in ['train', 'val', 'test']:\n",
    "    for filename, y in split_dict[split_type]:\n",
    "        src = os.path.join(data_dir, filename)\n",
    "        dst = os.path.join('split_archive', split_type, str(y), filename)\n",
    "        shutil.copyfile(src, dst)"
   ]
  },
  {
   "cell_type": "code",
   "execution_count": null,
   "id": "b86c7778",
   "metadata": {},
   "outputs": [],
   "source": []
  }
 ],
 "metadata": {
  "kernelspec": {
   "display_name": "Python 3 (ipykernel)",
   "language": "python",
   "name": "python3"
  },
  "language_info": {
   "codemirror_mode": {
    "name": "ipython",
    "version": 3
   },
   "file_extension": ".py",
   "mimetype": "text/x-python",
   "name": "python",
   "nbconvert_exporter": "python",
   "pygments_lexer": "ipython3",
   "version": "3.9.7"
  }
 },
 "nbformat": 4,
 "nbformat_minor": 5
}
