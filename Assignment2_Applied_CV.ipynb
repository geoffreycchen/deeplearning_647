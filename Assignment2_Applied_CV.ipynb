{
  "nbformat": 4,
  "nbformat_minor": 0,
  "metadata": {
    "colab": {
      "provenance": [],
      "collapsed_sections": []
    },
    "kernelspec": {
      "name": "python3",
      "display_name": "Python 3"
    },
    "language_info": {
      "name": "python"
    }
  },
  "cells": [
    {
      "cell_type": "code",
      "execution_count": 1,
      "metadata": {
        "colab": {
          "base_uri": "https://localhost:8080/"
        },
        "id": "U1tGy1a1kG7q",
        "outputId": "689062c7-ea36-4d50-e2d9-d790cd0fda02"
      },
      "outputs": [
        {
          "output_type": "stream",
          "name": "stdout",
          "text": [
            "Mounted at /content/drive\n"
          ]
        }
      ],
      "source": [
        "from google.colab import drive\n",
        "drive.mount('/content/drive')"
      ]
    },
    {
      "cell_type": "code",
      "source": [
        "import os\n",
        "import pandas as pd\n",
        "import matplotlib.pyplot as plt\n",
        "import numpy as np\n",
        "\n",
        "import tensorflow as tf\n",
        "\n",
        "from tensorflow.keras.utils import image_dataset_from_directory\n",
        "\n",
        "# Initialize rng\n",
        "rng = np.random.default_rng(2022)"
      ],
      "metadata": {
        "id": "42-_dzrpkMDP"
      },
      "execution_count": 2,
      "outputs": []
    },
    {
      "cell_type": "code",
      "source": [
        "batch_size = 32 # This is a tunable hyperparameter\n",
        "shape = (128, 128) # note we are reducing the size of the image\n",
        "# Note: you will use 'grayscale' images for your own model \n",
        "# but you might need to switch to 'rgb' for pretrained models because they are trained on ImageNet which has only RGB images                                       \n",
        "data_dir = '/path/to/split/archive/'\n",
        "train_ds = tf.keras.utils.image_dataset_from_directory(os.path.join(data_dir, 'train'),\n",
        "                                                       seed=rng.integers(500000),\n",
        "                                                       image_size=shape,\n",
        "                                                       color_mode='grayscale', batch_size=batch_size)\n",
        "val_ds = tf.keras.utils.image_dataset_from_directory(os.path.join(data_dir, 'val'),\n",
        "                                                     seed=rng.integers(500000),\n",
        "                                                     image_size=shape,\n",
        "                                                     color_mode='grayscale',\n",
        "                                                     batch_size=batch_size)\n",
        "test_ds = tf.keras.utils.image_dataset_from_directory(os.path.join(data_dir, 'test'),\n",
        "                                                      seed=rng.integers(500000),\n",
        "                                                      image_size=shape,\n",
        "                                                      color_mode='grayscale',\n",
        "                                                      batch_size=batch_size)"
      ],
      "metadata": {
        "colab": {
          "base_uri": "https://localhost:8080/"
        },
        "id": "PH0GOH1ZkWDj",
        "outputId": "c7a9128e-af68-4593-c0b7-53cfb48e6dc6"
      },
      "execution_count": 3,
      "outputs": [
        {
          "output_type": "stream",
          "name": "stdout",
          "text": [
            "Found 3924 files belonging to 2 classes.\n",
            "Found 841 files belonging to 2 classes.\n",
            "Found 841 files belonging to 2 classes.\n"
          ]
        }
      ]
    },
    {
      "cell_type": "code",
      "source": [
        "# Sample usage of datasets for a model\n",
        "# model.fit(train_ds, validation_data=val_ds, ...)"
      ],
      "metadata": {
        "id": "TPkHgShZlR1Y"
      },
      "execution_count": null,
      "outputs": []
    },
    {
      "cell_type": "markdown",
      "source": [
        "# Start your solution below"
      ],
      "metadata": {
        "id": "dmtEW9IalOqL"
      }
    },
    {
      "cell_type": "code",
      "source": [],
      "metadata": {
        "id": "OI5Rw_B4lNXi"
      },
      "execution_count": null,
      "outputs": []
    },
    {
      "cell_type": "code",
      "source": [],
      "metadata": {
        "id": "rqmZpYIclCCt"
      },
      "execution_count": null,
      "outputs": []
    }
  ]
}